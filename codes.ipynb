{
 "cells": [
  {
   "cell_type": "code",
   "execution_count": null,
   "metadata": {},
   "outputs": [],
   "source": [
    "#main.py নামের আরেকটি ফাইলে আপনার নম্বর ইমেল এবং পাসওয়ার্ড দিন\n",
    "\n",
    "from main import number, email, passworld\n",
    "a = number + email + passworld\n",
    "with open(\"contact.txt\", \"w\") as f:\n",
    "    f.write(a)"
   ]
  },
  {
   "cell_type": "code",
   "execution_count": null,
   "metadata": {},
   "outputs": [],
   "source": [
    "# Creating a sample file\n",
    "with open('sample.txt', 'w') as f:\n",
    "    f.write('Hello, World!\\n')\n",
    "    f.write('Welcome to Python programming.\\n')\n",
    "\n",
    "# Reading the file and printing the output\n",
    "with open('sample.txt', 'r') as f:  \n",
    "    content = f.read()  \n",
    "    print(content)  "
   ]
  }
 ],
 "metadata": {
  "kernelspec": {
   "display_name": "Python 3",
   "language": "python",
   "name": "python3"
  },
  "language_info": {
   "name": "python",
   "version": "3.13.0"
  }
 },
 "nbformat": 4,
 "nbformat_minor": 2
}
