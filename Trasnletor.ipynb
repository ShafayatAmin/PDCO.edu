{
 "cells": [
  {
   "cell_type": "code",
   "execution_count": 1,
   "metadata": {},
   "outputs": [
    {
     "data": {
      "text/plain": [
       "'<div id=\"google_translate_element\"></div>'"
      ]
     },
     "execution_count": 1,
     "metadata": {},
     "output_type": "execute_result"
    }
   ],
   "source": [
    "'''<div id=\"google_translate_element\"></div>'''"
   ]
  },
  {
   "cell_type": "code",
   "execution_count": null,
   "metadata": {},
   "outputs": [],
   "source": [
    "'''/* Style the translator container to be highly visible */\n",
    "#google_translate_element {\n",
    "    position: fixed;\n",
    "    top: 20px;\n",
    "    right: 20px;\n",
    "    z-index: 1000;\n",
    "    font-family: Arial, sans-serif;\n",
    "    display: flex;\n",
    "    align-items: center;\n",
    "    background-color: #0073e6; /* Bright blue background */\n",
    "    padding: 12px 20px;\n",
    "    border-radius: 50px;\n",
    "    color: white;\n",
    "    box-shadow: 0px 4px 8px rgba(0, 0, 0, 0.3);\n",
    "    cursor: pointer;\n",
    "    font-weight: bold;\n",
    "    font-size: 16px;\n",
    "    transition: background-color 0.3s ease, box-shadow 0.3s ease;\n",
    "}\n",
    "\n",
    "/* Add a globe icon to represent the translator */\n",
    "#google_translate_element::before {\n",
    "    content: '🌐'; /* Globe icon */\n",
    "    font-size: 22px;\n",
    "    margin-right: 10px;\n",
    "}\n",
    "\n",
    "/* Ensure the dropdown menu is properly displayed */\n",
    ".goog-te-menu-frame {\n",
    "    position: absolute !important;\n",
    "    top: 50px !important; /* Position below the translator icon */\n",
    "    right: 20px !important;\n",
    "    box-shadow: 0px 4px 12px rgba(0, 0, 0, 0.3);\n",
    "    border-radius: 8px;\n",
    "    z-index: 1001 !important;\n",
    "}\n",
    "\n",
    "/* Style inside the dropdown menu */\n",
    ".goog-te-menu2 {\n",
    "    width: 100% !important;\n",
    "    padding: 5px !important;\n",
    "    background-color: #ffffff;\n",
    "    color: #333;\n",
    "    font-family: Arial, sans-serif;\n",
    "    border-radius: 8px;\n",
    "}\n",
    "\n",
    "/* Adjust dropdown menu items */\n",
    ".goog-te-menu2-item div, .goog-te-menu2-item-selected div {\n",
    "    padding: 10px !important;\n",
    "    color: #333;\n",
    "}\n",
    "\n",
    "/* Highlight selected language */\n",
    ".goog-te-menu2-item-selected {\n",
    "    background-color: #e0e0e0 !important;\n",
    "}\n",
    "\n",
    "/* Optional: Hide Google Translate branding */\n",
    ".goog-logo-link, .goog-te-gadget span {\n",
    "    display: none !important;\n",
    "}\n",
    "'''"
   ]
  },
  {
   "cell_type": "code",
   "execution_count": null,
   "metadata": {},
   "outputs": [],
   "source": [
    "'''function loadGoogleTranslate() {\n",
    "    new google.translate.TranslateElement(\n",
    "        { pageLanguage: 'bn', includedLanguages: 'en,ar,ur,sv', layout: google.translate.TranslateElement.InlineLayout.SIMPLE },\n",
    "        'google_translate_element'\n",
    "    );\n",
    "}\n",
    "\n",
    "function addGoogleTranslateScript() {\n",
    "    const script = document.createElement('script');\n",
    "    script.type = 'text/javascript';\n",
    "    script.src = '//translate.google.com/translate_a/element.js?cb=loadGoogleTranslate';\n",
    "    document.body.appendChild(script);\n",
    "}\n",
    "\n",
    "window.addEventListener('load', addGoogleTranslateScript);\n",
    "'''"
   ]
  }
 ],
 "metadata": {
  "kernelspec": {
   "display_name": "Python 3",
   "language": "python",
   "name": "python3"
  },
  "language_info": {
   "codemirror_mode": {
    "name": "ipython",
    "version": 3
   },
   "file_extension": ".py",
   "mimetype": "text/x-python",
   "name": "python",
   "nbconvert_exporter": "python",
   "pygments_lexer": "ipython3",
   "version": "3.13.0"
  }
 },
 "nbformat": 4,
 "nbformat_minor": 2
}
